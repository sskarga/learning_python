{
 "cells": [
  {
   "cell_type": "code",
   "execution_count": 3,
   "metadata": {},
   "outputs": [],
   "source": [
    "import os\n",
    "import os.path \n",
    "import tempfile\n",
    "\n",
    "import tempfile\n",
    "\n",
    "class File:\n",
    "    def __init__(self, file_name):\n",
    "        self.file_name = os.path.normpath(file_name)\n",
    "        self.current_line = 0\n",
    "\n",
    "    def __str__(self):\n",
    "        return self.file_name\n",
    "\n",
    "    def __add__(self, value):\n",
    "        with tempfile.NamedTemporaryFile(mode='w', delete=False) as fp:\n",
    "\n",
    "            with open(self.file_name) as a:\n",
    "                fp.write(a.read())\n",
    "\n",
    "            with open(value.file_name) as b:\n",
    "                fp.write(b.read())\n",
    "\n",
    "            return File(fp.name)\n",
    "\n",
    "    def __iter__(self):\n",
    "        return self\n",
    "\n",
    "    def __next__(self):\n",
    "        try:\n",
    "            with open(self.file_name, \"r\") as f:\n",
    "                result = f.readlines()[self.current_line].rstrip()\n",
    "                self.current_line += 1\n",
    "        except:\n",
    "            raise StopIteration\n",
    "\n",
    "        return result\n",
    "\n",
    "    def write(self, str_data):\n",
    "        try:\n",
    "            with open(self.file_name, \"a\") as f:\n",
    "                f.write(str_data)\n",
    "        except IOError:\n",
    "            print(\"IO Error\")\n",
    "        except OSError:\n",
    "            print(\"OS Error\")\n",
    "            \n",
    "obj = File('file.txt')"
   ]
  },
  {
   "cell_type": "code",
   "execution_count": 4,
   "metadata": {},
   "outputs": [
    {
     "name": "stdout",
     "output_type": "stream",
     "text": [
      "file.txt\n"
     ]
    }
   ],
   "source": [
    "print(obj)"
   ]
  },
  {
   "cell_type": "code",
   "execution_count": 6,
   "metadata": {},
   "outputs": [
    {
     "name": "stdout",
     "output_type": "stream",
     "text": [
      "C:\\Users\\User\\AppData\\Local\\Temp\\tmpgfk34f91\n"
     ]
    }
   ],
   "source": [
    "first = File('first.txt')\n",
    "first.write('first\\n')\n",
    "\n",
    "second = File('second.txt')\n",
    "second.write('second\\n')\n",
    "\n",
    "new_obj = first + second\n",
    "print(new_obj)"
   ]
  },
  {
   "cell_type": "code",
   "execution_count": 7,
   "metadata": {},
   "outputs": [
    {
     "name": "stdout",
     "output_type": "stream",
     "text": [
      "1 - first\n",
      "2 - second\n"
     ]
    }
   ],
   "source": [
    "i = 0\n",
    "\n",
    "for line in new_obj:\n",
    "    i += 1\n",
    "    print(\"{0} - {1}\".format(i,line))"
   ]
  },
  {
   "cell_type": "code",
   "execution_count": null,
   "metadata": {},
   "outputs": [],
   "source": []
  }
 ],
 "metadata": {
  "kernelspec": {
   "display_name": "Python 3",
   "language": "python",
   "name": "python3"
  },
  "language_info": {
   "codemirror_mode": {
    "name": "ipython",
    "version": 3
   },
   "file_extension": ".py",
   "mimetype": "text/x-python",
   "name": "python",
   "nbconvert_exporter": "python",
   "pygments_lexer": "ipython3",
   "version": "3.7.0"
  }
 },
 "nbformat": 4,
 "nbformat_minor": 2
}
