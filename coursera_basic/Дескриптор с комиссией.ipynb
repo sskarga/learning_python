{
 "cells": [
  {
   "cell_type": "code",
   "execution_count": 44,
   "metadata": {},
   "outputs": [
    {
     "name": "stdout",
     "output_type": "stream",
     "text": [
      "90.0\n"
     ]
    }
   ],
   "source": [
    "class Value: \n",
    "    def __init__(self, value = 0.0):\n",
    "        self.amount = value\n",
    "    \n",
    "    def __get__(self, obj, obj_type):\n",
    "        return self.amount\n",
    "    \n",
    "    def __set__(self, obj, value):\n",
    "        self.amount = value - value * obj.commission \n",
    "\n",
    "\n",
    "class Account:\n",
    "    amount = Value()\n",
    "    \n",
    "    def __init__(self, commission):\n",
    "        self.commission = commission\n",
    "\n",
    "        \n",
    "new_account = Account(0.1)\n",
    "new_account.amount = 100\n",
    "print(new_account.amount)"
   ]
  },
  {
   "cell_type": "code",
   "execution_count": null,
   "metadata": {},
   "outputs": [],
   "source": []
  }
 ],
 "metadata": {
  "kernelspec": {
   "display_name": "Python 3",
   "language": "python",
   "name": "python3"
  },
  "language_info": {
   "codemirror_mode": {
    "name": "ipython",
    "version": 3
   },
   "file_extension": ".py",
   "mimetype": "text/x-python",
   "name": "python",
   "nbconvert_exporter": "python",
   "pygments_lexer": "ipython3",
   "version": "3.7.0"
  }
 },
 "nbformat": 4,
 "nbformat_minor": 2
}
